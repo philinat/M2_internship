{
 "cells": [
  {
   "cell_type": "code",
   "execution_count": 1,
   "id": "cce6a5a1-72f1-45f9-8e2c-a240bc775681",
   "metadata": {},
   "outputs": [],
   "source": [
    "import xarray as xr\n",
    "import pandas as pd\n",
    "import numpy as np\n",
    "import calendar as cld\n",
    "import matplotlib.pyplot as plt\n",
    "import proplot as pplt # New plot library (https://proplot.readthedocs.io/en/latest/)\n",
    "pplt.rc['savefig.dpi'] = 300 # 1200 is too big! #https://proplot.readthedocs.io/en/latest/basics.html#Creating-figures\n",
    "import scipy\n",
    "from numba import njit,prange\n",
    "from numba_nsgev import"
   ]
  },
  {
   "cell_type": "code",
   "execution_count": null,
   "id": "c70c00d8-b245-4d1b-b7dd-6dbe29ec1425",
   "metadata": {},
   "outputs": [],
   "source": [
    "ds = xr.open_dataset('/bettik/beaumetj/MARout/MAR-ERA-20C/MARgrid_EUf.nc')\n",
    "normal_format = {'gridlinewidth':0.1, 'gridcolor':'gray8', 'gridalpha':0.5, 'coast':True,'borders':True ,'reso':'hi', 'labels':True, 'lonlines':2, 'latlines':2, 'abc':False, 'latlim':[43.,48.5],'lonlim':[4.,16.]}\n",
    "multiplot_format = {'gridlinewidth':0.1, 'gridcolor':'gray8', 'gridalpha':0.5, 'coast':True,'borders':True ,'reso':'hi', 'labels':False, 'lonlines':2, 'latlines':2, 'abc':False, 'latlim':[43.,48.5],'lonlim':[4.,16.]}\n",
    "\n"
   ]
  },
  {
   "cell_type": "code",
   "execution_count": null,
   "id": "b6828eee-7f8e-435f-9ec2-1ee9b1d54f70",
   "metadata": {},
   "outputs": [],
   "source": [
    "models = ['MAR_MPI','MAR_ECearth3']#'MAR_ERA20C','MAR_ERA5',,'APGD']\n",
    "timelines = np.array([[1902,2010],[1980,2020],[1961,2100],[1961,2100],[1971,2008]])\n",
    "\n",
    "f, axs = pplt.subplots(proj='cyl',ncols=4, nrows=5, share=1, axwidth=5)\n",
    "for m,model in enumerate(models):\n",
    "    les_season_mean = np.load('/home/philinat/Stage-M2/saved_data_'+model+'/les_season_mean.npy')\n",
    "    y1980 = 1980 - timelines[m,0]\n",
    "    y2008 = 2008 - timelines[m,0]+1\n",
    "    season_mean = np.mean(les_season_mean[y1980:y2008,:,:,:],axis=0)\n",
    "    \n",
    "    for i in range(4):\n",
    "        cb = axs[i+m*4].pcolormesh(ds.LON,ds.LAT,season_mean[i],levels=np.linspace(0,10,21),cmap='YlGnBu')\n",
    "\n",
    "f.colorbar(cb, label= 'mm/d')\n",
    "\n",
    "axs.format(**multiplot_format,suptitle='Mean daily precipitation on 1980-2008',collabels=['DJF','MAM','JJA', 'SON'],rowlabels=models)"
   ]
  }
 ],
 "metadata": {
  "kernelspec": {
   "display_name": "Python [conda env:erca] *",
   "language": "python",
   "name": "conda-env-erca-py"
  },
  "language_info": {
   "codemirror_mode": {
    "name": "ipython",
    "version": 3
   },
   "file_extension": ".py",
   "mimetype": "text/x-python",
   "name": "python",
   "nbconvert_exporter": "python",
   "pygments_lexer": "ipython3",
   "version": "3.8.5"
  }
 },
 "nbformat": 4,
 "nbformat_minor": 5
}
